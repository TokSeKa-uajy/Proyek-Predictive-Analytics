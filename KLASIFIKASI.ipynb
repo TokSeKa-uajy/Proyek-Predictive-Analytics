{
  "cells": [
    {
      "cell_type": "markdown",
      "metadata": {
        "id": "fKADPWcFKlj3"
      },
      "source": [
        "# **1. Import Library**"
      ]
    },
    {
      "cell_type": "markdown",
      "metadata": {
        "id": "LgA3ERnVn84N"
      },
      "source": [
        "Langkah awal berupa pengimporan pustaka-pustaka Python penting (pandas, numpy, seaborn, matplotlib, dan modul-modul scikit-learn) yang akan dipakai untuk analisis data serta pembuatan model machine learning."
      ]
    },
    {
      "cell_type": "code",
      "execution_count": 1,
      "metadata": {
        "id": "BlmvjLY9M4Yj"
      },
      "outputs": [],
      "source": [
        "import pandas as pd\n",
        "import numpy as np\n",
        "import seaborn as sns\n",
        "import matplotlib.pyplot as plt\n",
        "from sklearn.model_selection import train_test_split\n",
        "from sklearn.preprocessing import LabelEncoder, StandardScaler, MinMaxScaler\n",
        "from sklearn.neighbors import KNeighborsClassifier\n",
        "from sklearn.tree import DecisionTreeClassifier\n",
        "from sklearn.ensemble import RandomForestClassifier\n",
        "from sklearn.svm import SVC\n",
        "from sklearn.naive_bayes import GaussianNB\n",
        "from sklearn.metrics import confusion_matrix, accuracy_score, precision_score, recall_score, f1_score"
      ]
    },
    {
      "cell_type": "markdown",
      "metadata": {
        "id": "f3YIEnAFKrKL"
      },
      "source": [
        "# **2. Memuat Dataset dari Hasil Clustering**"
      ]
    },
    {
      "cell_type": "markdown",
      "metadata": {
        "id": "Ey3ItwTen_7E"
      },
      "source": [
        "Dataset hasil clustering dari notebook dataPreprocessing/clustering dimuat dari file CSV yang telah diunggah ke GitHub, kemudian dibaca menggunakan pandas dan disimpan dalam sebuah DataFrame untuk analisis lanjutan."
      ]
    },
    {
      "cell_type": "code",
      "execution_count": 9,
      "metadata": {
        "colab": {
          "base_uri": "https://localhost:8080/",
          "height": 261
        },
        "id": "GHCGNTyrM5fS",
        "outputId": "49172d77-7674-4ed2-eea3-c2c08ae9b17f"
      },
      "outputs": [],
      "source": [
        "# Datanya Saya Upload ke Github pribadi (Public).\n",
        "# Jika ingin mengecek sumber kagglenya : https://www.kaggle.com/datasets/datascientistanna/customers-dataset/data\n",
        "data=pd.read_csv(\"https://raw.githubusercontent.com/TokSeKa-uajy/datasetPython/refs/heads/main/MCPemula/customer_cluster_results_normalisasi.csv\")"
      ]
    },
    {
      "cell_type": "code",
      "execution_count": 3,
      "metadata": {},
      "outputs": [
        {
          "name": "stdout",
          "output_type": "stream",
          "text": [
            "5 Data Teratas:\n",
            "        Age  Annual Income ($)  Spending Score (1-100)  Work Experience  \\\n",
            "0  0.191919           0.078958                    0.39         0.058824   \n",
            "1  0.212121           0.184236                    0.81         0.176471   \n",
            "2  0.202020           0.452694                    0.06         0.058824   \n",
            "3  0.232323           0.310569                    0.77         0.000000   \n",
            "4  0.313131           0.200027                    0.40         0.117647   \n",
            "\n",
            "   Family Size  Gender_Female  Gender_Male  Profession_Artist  \\\n",
            "0        0.375          False         True              False   \n",
            "1        0.250          False         True              False   \n",
            "2        0.000           True        False              False   \n",
            "3        0.125           True        False              False   \n",
            "4        0.625           True        False              False   \n",
            "\n",
            "   Profession_Doctor  Profession_Engineer  Profession_Entertainment  \\\n",
            "0              False                False                     False   \n",
            "1              False                 True                     False   \n",
            "2              False                 True                     False   \n",
            "3              False                False                     False   \n",
            "4              False                False                      True   \n",
            "\n",
            "   Profession_Executive  Profession_Healthcare  Profession_Homemaker  \\\n",
            "0                 False                   True                 False   \n",
            "1                 False                  False                 False   \n",
            "2                 False                  False                 False   \n",
            "3                 False                  False                 False   \n",
            "4                 False                  False                 False   \n",
            "\n",
            "   Profession_Lawyer  Profession_Marketing  Cluster  \n",
            "0              False                 False        2  \n",
            "1              False                 False        2  \n",
            "2              False                 False        1  \n",
            "3               True                 False        1  \n",
            "4              False                 False        1   \n",
            "\n",
            "Info DataFrame:\n",
            "<class 'pandas.core.frame.DataFrame'>\n",
            "RangeIndex: 1965 entries, 0 to 1964\n",
            "Data columns (total 17 columns):\n",
            " #   Column                    Non-Null Count  Dtype  \n",
            "---  ------                    --------------  -----  \n",
            " 0   Age                       1965 non-null   float64\n",
            " 1   Annual Income ($)         1965 non-null   float64\n",
            " 2   Spending Score (1-100)    1965 non-null   float64\n",
            " 3   Work Experience           1965 non-null   float64\n",
            " 4   Family Size               1965 non-null   float64\n",
            " 5   Gender_Female             1965 non-null   bool   \n",
            " 6   Gender_Male               1965 non-null   bool   \n",
            " 7   Profession_Artist         1965 non-null   bool   \n",
            " 8   Profession_Doctor         1965 non-null   bool   \n",
            " 9   Profession_Engineer       1965 non-null   bool   \n",
            " 10  Profession_Entertainment  1965 non-null   bool   \n",
            " 11  Profession_Executive      1965 non-null   bool   \n",
            " 12  Profession_Healthcare     1965 non-null   bool   \n",
            " 13  Profession_Homemaker      1965 non-null   bool   \n",
            " 14  Profession_Lawyer         1965 non-null   bool   \n",
            " 15  Profession_Marketing      1965 non-null   bool   \n",
            " 16  Cluster                   1965 non-null   int64  \n",
            "dtypes: bool(11), float64(5), int64(1)\n",
            "memory usage: 113.3 KB\n",
            "None \n",
            "\n",
            "Missing Values:\n",
            "Age                         0\n",
            "Annual Income ($)           0\n",
            "Spending Score (1-100)      0\n",
            "Work Experience             0\n",
            "Family Size                 0\n",
            "Gender_Female               0\n",
            "Gender_Male                 0\n",
            "Profession_Artist           0\n",
            "Profession_Doctor           0\n",
            "Profession_Engineer         0\n",
            "Profession_Entertainment    0\n",
            "Profession_Executive        0\n",
            "Profession_Healthcare       0\n",
            "Profession_Homemaker        0\n",
            "Profession_Lawyer           0\n",
            "Profession_Marketing        0\n",
            "Cluster                     0\n",
            "dtype: int64 \n",
            "\n",
            "Jumlah Data Duplikat:\n",
            "0 \n",
            "\n",
            "Statistik Deskriptif:\n",
            "               Age  Annual Income ($)  Spending Score (1-100)  \\\n",
            "count  1965.000000        1965.000000             1965.000000   \n",
            "mean      0.493885           0.582269                0.510789   \n",
            "std       0.287019           0.241264                0.279772   \n",
            "min       0.000000           0.000000                0.000000   \n",
            "25%       0.252525           0.391369                0.280000   \n",
            "50%       0.484848           0.577758                0.500000   \n",
            "75%       0.737374           0.784818                0.750000   \n",
            "max       1.000000           1.000000                1.000000   \n",
            "\n",
            "       Work Experience  Family Size      Cluster  \n",
            "count      1965.000000  1965.000000  1965.000000  \n",
            "mean          0.240742     0.344656     1.557252  \n",
            "std           0.230968     0.246042     0.932773  \n",
            "min           0.000000     0.000000     0.000000  \n",
            "25%           0.058824     0.125000     1.000000  \n",
            "50%           0.176471     0.375000     1.000000  \n",
            "75%           0.411765     0.500000     2.000000  \n",
            "max           1.000000     1.000000     3.000000   \n",
            "\n",
            "Jumlah Outlier per Kolom:\n",
            "Age                       0\n",
            "Annual Income ($)         0\n",
            "Spending Score (1-100)    0\n",
            "Work Experience           5\n",
            "Family Size               0\n",
            "Cluster                   0\n",
            "Name: Jumlah Outlier, dtype: int64\n"
          ]
        }
      ],
      "source": [
        "# Tampilkan 5 data teratas\n",
        "print(\"5 Data Teratas:\")\n",
        "print(data.head(), '\\n')\n",
        "\n",
        "# Info umum data\n",
        "print(\"Info DataFrame:\")\n",
        "print(data.info(), '\\n')\n",
        "\n",
        "# Cek missing values\n",
        "print(\"Missing Values:\")\n",
        "print(data.isnull().sum(), '\\n')\n",
        "\n",
        "# Cek duplikat\n",
        "print(\"Jumlah Data Duplikat:\")\n",
        "print(data.duplicated().sum(), '\\n')\n",
        "\n",
        "# Statistik deskriptif\n",
        "print(\"Statistik Deskriptif:\")\n",
        "print(data.describe(), '\\n')\n",
        "\n",
        "# Cek outlier menggunakan metode IQR\n",
        "def detect_outliers_iqr(df):\n",
        "    outlier_summary = {}\n",
        "    for col in df.select_dtypes(include=[np.number]):\n",
        "        Q1 = df[col].quantile(0.25)\n",
        "        Q3 = df[col].quantile(0.75)\n",
        "        IQR = Q3 - Q1\n",
        "        outliers = ((df[col] < (Q1 - 1.5 * IQR)) | (df[col] > (Q3 + 1.5 * IQR))).sum()\n",
        "        outlier_summary[col] = outliers\n",
        "    return pd.Series(outlier_summary, name=\"Jumlah Outlier\")\n",
        "\n",
        "print(\"Jumlah Outlier per Kolom:\")\n",
        "print(detect_outliers_iqr(data))"
      ]
    },
    {
      "cell_type": "markdown",
      "metadata": {
        "id": "KkPem5eWL2UP"
      },
      "source": [
        "# **3. Data Splitting**"
      ]
    },
    {
      "cell_type": "markdown",
      "metadata": {
        "id": "YYj1rl_JNI9Y"
      },
      "source": [
        "Proses ini dilakukan untuk membagi dataset menjadi dua bagian: data latih (training set) dan data uji (test set). Data latih digunakan untuk melatih model, sedangkan data uji digunakan untuk mengevaluasi kinerja model terhadap data yang belum pernah dilihat sebelumnya.\n",
        "Hal ini penting agar model dapat diuji kemampuannya dalam melakukan generalisasi terhadap data baru."
      ]
    },
    {
      "cell_type": "code",
      "execution_count": 4,
      "metadata": {
        "colab": {
          "base_uri": "https://localhost:8080/"
        },
        "id": "OubAW-7ONKVj",
        "outputId": "cba528b9-58b7-4600-e47f-0ed78058be95"
      },
      "outputs": [
        {
          "name": "stdout",
          "output_type": "stream",
          "text": [
            "Training set shape: X_train=(1572, 16), y_train=(1572,)\n",
            "Test set shape: X_test=(393, 16), y_test=(393,)\n"
          ]
        }
      ],
      "source": [
        "# Pisahkan fitur (X) dan target (y)\n",
        "X = data.drop(columns=['Cluster'])\n",
        "y = data['Cluster']\n",
        "\n",
        "# Split data menjadi set pelatihan dan set uji\n",
        "X_train, X_test, y_train, y_test = train_test_split(X, y, test_size=0.2, random_state=42)\n",
        "\n",
        "# Tampilkan bentuk set pelatihan dan set uji untuk memastikan split\n",
        "print(f\"Training set shape: X_train={X_train.shape}, y_train={y_train.shape}\")\n",
        "print(f\"Test set shape: X_test={X_test.shape}, y_test={y_test.shape}\")"
      ]
    },
    {
      "cell_type": "markdown",
      "metadata": {
        "id": "IVPbB03CMhTT"
      },
      "source": [
        "# **4. Membangun Model Klasifikasi**\n"
      ]
    },
    {
      "cell_type": "markdown",
      "metadata": {
        "id": "Ned1pL9zMmBK"
      },
      "source": [
        "## **a. Membangun Model Klasifikasi**"
      ]
    },
    {
      "cell_type": "markdown",
      "metadata": {
        "id": "WAWzPOE4Nkti"
      },
      "source": [
        "Setelah menentukan algoritma klasifikasi yang tepat, model dilatih menggunakan data latih untuk mempelajari pola dari data.\n",
        "\n",
        "Langkah-langkahnya meliputi:\n",
        "\n",
        "Menentukan algoritma klasifikasi, seperti K-Nearest Neighbors, Decision Tree, Random Forest, SVM, atau Naive Bayes.\n",
        "\n",
        "Melatih masing-masing model secara terpisah dengan data latih agar siap untuk diuji performanya."
      ]
    },
    {
      "cell_type": "code",
      "execution_count": 5,
      "metadata": {
        "colab": {
          "base_uri": "https://localhost:8080/"
        },
        "id": "4JYxBe87NLDk",
        "outputId": "0d52545c-dd7c-471b-ea40-a5ab94814938"
      },
      "outputs": [
        {
          "name": "stdout",
          "output_type": "stream",
          "text": [
            "Model training selesai.\n"
          ]
        }
      ],
      "source": [
        "# Bagian 1: Pelatihan Model\n",
        "# Definisikan setiap klasifikasi secara terpisah\n",
        "knn = KNeighborsClassifier().fit(X_train, y_train)\n",
        "dt = DecisionTreeClassifier().fit(X_train, y_train)\n",
        "rf = RandomForestClassifier().fit(X_train, y_train)\n",
        "svm = SVC().fit(X_train, y_train)\n",
        "nb = GaussianNB().fit(X_train, y_train)\n",
        "\n",
        "print(\"Model training selesai.\")"
      ]
    },
    {
      "cell_type": "markdown",
      "metadata": {
        "id": "seYoHNY3XU1y"
      },
      "source": [
        "####Untuk membangun model klasifikasi berdasarkan label hasil clustering, digunakan lima algoritma populer dalam supervised learning, yaitu:\n",
        "\n",
        "1. K Nearest Neighbors (KNN)\n",
        "KNN adalah algoritma klasifikasi berbasis instance based learning, yang melakukan prediksi berdasarkan mayoritas label dari k tetangga terdekat dalam ruang fitur. KNN sangat sederhana dan efektif untuk data yang terpisah jelas antar kelas.\n",
        "\n",
        "2. Decision Tree (DT)\n",
        "Decision Tree bekerja dengan membagi data ke dalam cabang cabang berdasar fitur yang paling informatif, membentuk struktur seperti pohon. Algoritma ini mudah dipahami dan bekerja baik untuk dataset yang memiliki relasi kompleks antar fitur.\n",
        "\n",
        "3. Random Forest (RF)\n",
        "Random Forest adalah ensemble dari banyak Decision Tree yang dilatih pada subset data yang berbeda. Setiap pohon memberikan vote, dan hasil akhir ditentukan berdasarkan mayoritas. RF meningkatkan akurasi dan mengurangi risiko overfitting.\n",
        "\n",
        "4. Support Vector Machine (SVM)\n",
        "SVM mencoba menemukan hyperplane terbaik yang memisahkan kelas kelas dalam ruang fitur. Cocok untuk data berdimensi tinggi dan memberikan performa kuat meskipun ukuran data tidak terlalu besar.\n",
        "\n",
        "5. Naive Bayes (NB)\n",
        "Naive Bayes adalah algoritma probabilistik berdasarkan Teorema Bayes dengan asumsi independensi antar fitur. Meski sederhana, NB cukup efektif dan cepat untuk dataset berukuran kecil hingga sedang, terutama ketika fitur fitur bersifat kategorikal.\n",
        "\n",
        "#####Alasan utama Saya menggunakan semua model, karena semua yang Saya coba memberikan hasil sempurna (akurasi 100%).\n"
      ]
    },
    {
      "cell_type": "markdown",
      "metadata": {
        "id": "ergzChZFEL-O"
      },
      "source": [
        "## **b. Evaluasi Model Klasifikasi**"
      ]
    },
    {
      "cell_type": "markdown",
      "metadata": {
        "id": "zOm68u-7NpLT"
      },
      "source": [
        "Untuk menilai performa model, dilakukan evaluasi terhadap hasil prediksi pada data uji dengan langkah berikut:\n",
        "\n",
        "Melakukan prediksi menggunakan data uji.\n",
        "\n",
        "Menghitung metrik evaluasi seperti Accuracy, Precision, Recall, dan F1-Score untuk melihat seberapa baik model bekerja.\n",
        "\n",
        "Membuat confusion matrix untuk mengevaluasi jumlah prediksi yang benar dan salah secara lebih rinci.\n",
        "\n",
        "Hasil evaluasi ini disusun dalam bentuk DataFrame agar memudahkan perbandingan antar model."
      ]
    },
    {
      "cell_type": "code",
      "execution_count": 6,
      "metadata": {
        "colab": {
          "base_uri": "https://localhost:8080/"
        },
        "id": "tMq4QAssNLip",
        "outputId": "a84e651e-d72e-45c3-89cb-e275474a18ac"
      },
      "outputs": [
        {
          "name": "stdout",
          "output_type": "stream",
          "text": [
            "                          Model  Accuracy  Precision  Recall  F1-Score\n",
            "0     K-Nearest Neighbors (KNN)       1.0        1.0     1.0       1.0\n",
            "1            Decision Tree (DT)       1.0        1.0     1.0       1.0\n",
            "2            Random Forest (RF)       1.0        1.0     1.0       1.0\n",
            "3  Support Vector Machine (SVM)       1.0        1.0     1.0       1.0\n",
            "4              Naive Bayes (NB)       1.0        1.0     1.0       1.0\n"
          ]
        }
      ],
      "source": [
        "from sklearn.metrics import (\n",
        "    confusion_matrix, accuracy_score, precision_score,\n",
        "    recall_score, f1_score\n",
        ")\n",
        "\n",
        "def evaluate_model(model, X_test, y_test):\n",
        "    y_pred = model.predict(X_test)\n",
        "    cm = confusion_matrix(y_test, y_pred)\n",
        "\n",
        "    results = {\n",
        "        'Confusion Matrix': cm,\n",
        "        'Accuracy': accuracy_score(y_test, y_pred),\n",
        "        'Precision': precision_score(y_test, y_pred, average='weighted'),\n",
        "        'Recall': recall_score(y_test, y_pred, average='weighted'),\n",
        "        'F1-Score': f1_score(y_test, y_pred, average='weighted')\n",
        "    }\n",
        "    return results\n",
        "\n",
        "\n",
        "# Mengevaluasi setiap model dan mengumpulkan hasilnya\n",
        "results = {\n",
        "    'K-Nearest Neighbors (KNN)': evaluate_model(knn, X_test, y_test),\n",
        "    'Decision Tree (DT)': evaluate_model(dt, X_test, y_test),\n",
        "    'Random Forest (RF)': evaluate_model(rf, X_test, y_test),\n",
        "    'Support Vector Machine (SVM)': evaluate_model(svm, X_test, y_test),\n",
        "    'Naive Bayes (NB)': evaluate_model(nb, X_test, y_test)\n",
        "}\n",
        "\n",
        "# Buat DataFrame untuk meringkas hasil\n",
        "summary_df = pd.DataFrame(columns=['Model', 'Accuracy', 'Precision', 'Recall', 'F1-Score'])\n",
        "\n",
        "# Isi DataFrame dengan hasil\n",
        "rows = []\n",
        "for model_name, metrics in results.items():\n",
        "    rows.append({\n",
        "        'Model': model_name,\n",
        "        'Accuracy': metrics['Accuracy'],\n",
        "        'Precision': metrics['Precision'],\n",
        "        'Recall': metrics['Recall'],\n",
        "        'F1-Score': metrics['F1-Score']\n",
        "    })\n",
        "\n",
        "# Konversi daftar kamus ke DataFrame\n",
        "summary_df = pd.DataFrame(rows)\n",
        "\n",
        "# Tampilkan DataFrame\n",
        "print(summary_df)"
      ]
    },
    {
      "cell_type": "markdown",
      "metadata": {
        "id": "Nl-p5hjOWUa3"
      },
      "source": [
        "Kode ini digunakan untuk menghasilkan classification report dari setiap model klasifikasi (KNN, Decision Tree, Random Forest, SVM, dan Naive Bayes) yang telah diuji.\n",
        "\n",
        "Laporan ini menampilkan metrik evaluasi yang lebih rinci untuk masing-masing kelas, meliputi:\n",
        "\n",
        "Precision: Ketepatan prediksi positif.\n",
        "\n",
        "Recall: Kemampuan model menemukan semua data positif.\n",
        "\n",
        "F1-Score: Rata-rata harmonis antara precision dan recall.\n",
        "\n",
        "Support: Jumlah sampel sebenarnya di setiap kelas.\n",
        "\n",
        "Tujuannya adalah untuk memberikan gambaran lengkap kinerja model terhadap tiap label/cluster."
      ]
    },
    {
      "cell_type": "code",
      "execution_count": 7,
      "metadata": {
        "colab": {
          "base_uri": "https://localhost:8080/"
        },
        "id": "3rM32Cf4MJdl",
        "outputId": "33b31f33-f0d9-423d-b742-687b01cfbd15"
      },
      "outputs": [
        {
          "name": "stdout",
          "output_type": "stream",
          "text": [
            "\n",
            "Classification Report - KNN\n",
            "              precision    recall  f1-score   support\n",
            "\n",
            "           0       1.00      1.00      1.00        35\n",
            "           1       1.00      1.00      1.00       163\n",
            "           2       1.00      1.00      1.00       114\n",
            "           3       1.00      1.00      1.00        81\n",
            "\n",
            "    accuracy                           1.00       393\n",
            "   macro avg       1.00      1.00      1.00       393\n",
            "weighted avg       1.00      1.00      1.00       393\n",
            "\n",
            "\n",
            "Classification Report - DT\n",
            "              precision    recall  f1-score   support\n",
            "\n",
            "           0       1.00      1.00      1.00        35\n",
            "           1       1.00      1.00      1.00       163\n",
            "           2       1.00      1.00      1.00       114\n",
            "           3       1.00      1.00      1.00        81\n",
            "\n",
            "    accuracy                           1.00       393\n",
            "   macro avg       1.00      1.00      1.00       393\n",
            "weighted avg       1.00      1.00      1.00       393\n",
            "\n",
            "\n",
            "Classification Report - RF\n",
            "              precision    recall  f1-score   support\n",
            "\n",
            "           0       1.00      1.00      1.00        35\n",
            "           1       1.00      1.00      1.00       163\n",
            "           2       1.00      1.00      1.00       114\n",
            "           3       1.00      1.00      1.00        81\n",
            "\n",
            "    accuracy                           1.00       393\n",
            "   macro avg       1.00      1.00      1.00       393\n",
            "weighted avg       1.00      1.00      1.00       393\n",
            "\n",
            "\n",
            "Classification Report - SVM\n",
            "              precision    recall  f1-score   support\n",
            "\n",
            "           0       1.00      1.00      1.00        35\n",
            "           1       1.00      1.00      1.00       163\n",
            "           2       1.00      1.00      1.00       114\n",
            "           3       1.00      1.00      1.00        81\n",
            "\n",
            "    accuracy                           1.00       393\n",
            "   macro avg       1.00      1.00      1.00       393\n",
            "weighted avg       1.00      1.00      1.00       393\n",
            "\n",
            "\n",
            "Classification Report - NB\n",
            "              precision    recall  f1-score   support\n",
            "\n",
            "           0       1.00      1.00      1.00        35\n",
            "           1       1.00      1.00      1.00       163\n",
            "           2       1.00      1.00      1.00       114\n",
            "           3       1.00      1.00      1.00        81\n",
            "\n",
            "    accuracy                           1.00       393\n",
            "   macro avg       1.00      1.00      1.00       393\n",
            "weighted avg       1.00      1.00      1.00       393\n",
            "\n"
          ]
        }
      ],
      "source": [
        "from sklearn.metrics import classification_report\n",
        "\n",
        "for model_name, model in [('KNN', knn), ('DT', dt), ('RF', rf), ('SVM', svm), ('NB', nb)]:\n",
        "    y_pred = model.predict(X_test)\n",
        "    print(f\"\\nClassification Report - {model_name}\")\n",
        "    print(classification_report(y_test, y_pred))\n"
      ]
    },
    {
      "cell_type": "markdown",
      "metadata": {
        "id": "rKBorlUwWai4"
      },
      "source": [
        "Kode ini digunakan untuk menganalisis kekuatan hubungan (korelasi) antara setiap fitur dengan label target (Cluster). Prosesnya dilakukan sebagai berikut:\n",
        "\n",
        "Membuat salinan data latih (X_train) dan menambahkan kolom target (y_train) sebagai Cluster.\n",
        "\n",
        "Menghitung matriks korelasi antar fitur numerik.\n",
        "\n",
        "Menampilkan heatmap korelasi antara fitur dan label Cluster.\n",
        "\n",
        "Visualisasi ini membantu dalam mengidentifikasi fitur mana yang paling berpengaruh terhadap klasifikasi, sehingga dapat digunakan untuk feature selection atau interpretasi model."
      ]
    },
    {
      "cell_type": "code",
      "execution_count": 8,
      "metadata": {
        "colab": {
          "base_uri": "https://localhost:8080/",
          "height": 545
        },
        "id": "4ejQBtp5NMaC",
        "outputId": "9453730b-507f-4ad2-faaa-413e6aeea831"
      },
      "outputs": [
        {
          "data": {
            "image/png": "[encoded data removed]",
            "text/plain": [
              "<Figure size 1000x600 with 2 Axes>"
            ]
          },
          "metadata": {},
          "output_type": "display_data"
        }
      ],
      "source": [
        "import seaborn as sns\n",
        "import matplotlib.pyplot as plt\n",
        "\n",
        "df_temp = X_train.copy()\n",
        "df_temp['Cluster'] = y_train\n",
        "corr = df_temp.corr(numeric_only=True)\n",
        "\n",
        "plt.figure(figsize=(10, 6))\n",
        "sns.heatmap(corr[['Cluster']].sort_values(by='Cluster', ascending=False), annot=True, cmap='coolwarm')\n",
        "plt.title(\"Korelasi Fitur terhadap Label Cluster\")\n",
        "plt.show()\n"
      ]
    },
    {
      "cell_type": "markdown",
      "metadata": {
        "id": "ZRsOdm4uEgAW"
      },
      "source": [
        "## **Analisis Hasil Evaluasi Model Klasifikasi**"
      ]
    },
    {
      "cell_type": "markdown",
      "metadata": {
        "id": "4pJvWSmpnMPK"
      },
      "source": [
        "###Hasil evaluasi dari lima algoritma klasifikasi menunjukkan performa yang sangat tinggi, dengan nilai Accuracy, Precision, Recall, dan F1-Score semuanya mencapai 1.00 (100%). Ini berarti model mampu mengklasifikasikan setiap data uji secara sempurna, tanpa kesalahan prediksi.\n",
        "- Tidak dilakukan proses tuning model karena performa awal sudah maksimal.\n",
        "- Tidak ditemukan indikasi overfitting maupun underfitting dari hasil evaluasi di data uji.\n",
        "- Namun demikian, performa yang sempurna ini kemungkinan besar disebabkan oleh struktur dataset yang terlalu sederhana.\n",
        "\n",
        "####Kelemahan & Catatan:\n",
        "- Label yang digunakan berasal dari hasil clustering yang hanya memanfaatkan informasi dominan dari kolom Gender dan Profession.\n",
        "- Fitur-fitur lain seperti penghasilan, usia, dan skor pengeluaran ternyata tidak banyak berkontribusi terhadap pemisahan klaster.\n",
        "- Akibatnya, model klasifikasi pun cenderung hanya belajar membedakan berdasarkan label-label biner/kategorikal tersebut.\n",
        "\n",
        "####Rekomendasi Lanjutan:\n",
        "- Untuk kasus nyata, penting menggunakan dataset dengan variabilitas yang lebih tinggi dan label clustering yang mencerminkan segmentasi pelanggan yang lebih kompleks."
      ]
    }
  ],
  "metadata": {
    "colab": {
      "provenance": []
    },
    "kernelspec": {
      "display_name": "base",
      "language": "python",
      "name": "python3"
    },
    "language_info": {
      "codemirror_mode": {
        "name": "ipython",
        "version": 3
      },
      "file_extension": ".py",
      "mimetype": "text/x-python",
      "name": "python",
      "nbconvert_exporter": "python",
      "pygments_lexer": "ipython3",
      "version": "3.12.7"
    }
  },
  "nbformat": 4,
  "nbformat_minor": 0
}
